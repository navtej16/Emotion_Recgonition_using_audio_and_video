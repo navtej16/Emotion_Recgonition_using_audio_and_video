{
  "nbformat": 4,
  "nbformat_minor": 0,
  "metadata": {
    "colab": {
      "name": "Emotion_recognition_using_video.ipynb",
      "provenance": [],
      "authorship_tag": "ABX9TyNvuR0+5JL0fsqK5O7MWqA6",
      "include_colab_link": true
    },
    "kernelspec": {
      "name": "python3",
      "display_name": "Python 3"
    },
    "language_info": {
      "name": "python"
    }
  },
  "cells": [
    {
      "cell_type": "markdown",
      "metadata": {
        "id": "view-in-github",
        "colab_type": "text"
      },
      "source": [
        "<a href=\"https://colab.research.google.com/github/navtej16/Emotion_Recgonition_using_audio_and_video/blob/main/Emotion_recognition_using_video.ipynb\" target=\"_parent\"><img src=\"https://colab.research.google.com/assets/colab-badge.svg\" alt=\"Open In Colab\"/></a>"
      ]
    },
    {
      "cell_type": "code",
      "metadata": {
        "id": "8ggHxBvofh9z"
      },
      "source": [
        "import tensorflow as tf\n",
        "\n",
        "import keras\n",
        "from keras.models import Sequential\n",
        "from keras.layers import Conv2D , MaxPooling2D , AveragePooling2D\n",
        "from keras.layers import Dense , Activation , Dropout ,Flatten\n",
        "\n",
        "\n"
      ],
      "execution_count": 15,
      "outputs": []
    },
    {
      "cell_type": "code",
      "metadata": {
        "id": "0MC04XlvliXG"
      },
      "source": [
        "#from google.colab import files\n",
        "#uploaded = files.upload()"
      ],
      "execution_count": 2,
      "outputs": []
    },
    {
      "cell_type": "code",
      "metadata": {
        "colab": {
          "base_uri": "https://localhost:8080/"
        },
        "id": "z0Hj7o_rmWuD",
        "outputId": "0c0339fe-9a7c-475a-9b43-5e2413f7d111"
      },
      "source": [
        "from google.colab import drive\n",
        "drive.mount(\"/content/gdrive\")\n",
        "import pandas as pd\n",
        "data = pd.read_csv('/content/gdrive/My Drive/fer2013.csv')"
      ],
      "execution_count": 5,
      "outputs": [
        {
          "output_type": "stream",
          "text": [
            "Drive already mounted at /content/gdrive; to attempt to forcibly remount, call drive.mount(\"/content/gdrive\", force_remount=True).\n"
          ],
          "name": "stdout"
        }
      ]
    },
    {
      "cell_type": "markdown",
      "metadata": {
        "id": "ZU4ZoLJi3bga"
      },
      "source": [
        ""
      ]
    },
    {
      "cell_type": "code",
      "metadata": {
        "colab": {
          "base_uri": "https://localhost:8080/"
        },
        "id": "WA1qZ86kmx5-",
        "outputId": "46487c57-f064-4aa7-b091-c94b3f021b30"
      },
      "source": [
        "#data.shape\n",
        "#data.head()\n",
        "\n",
        "x_test = []\n",
        "y_test = []\n",
        "x_train = []\n",
        "y_train = []\n",
        "\n",
        "import numpy as np\n",
        "\n",
        "l = np.array(data);\n",
        "\n",
        "for index,row in data.iterrows():\n",
        "  k = row['pixels'].split(\" \")\n",
        "\n",
        "  emot = row['emotion']\n",
        "  emot = keras.utils.to_categorical(emot,7)\n",
        "\n",
        "  if row['Usage'] == 'Training' :\n",
        "    x_train.append(np.array(k))\n",
        "    y_train.append(emot)\n",
        "  elif row['Usage'] == 'PublicTest' :\n",
        "    x_test.append(np.array(k))\n",
        "    y_test.append(emot)\n",
        "  \n",
        "x_train = np.array(x_train,'float32')\n",
        "y_train = np.array(y_train,'float32')\n",
        "x_test = np.array(x_test,'float32')\n",
        "y_test = np.array(y_test,'float32')\n",
        "\n",
        "#print(x_train.shape)\n",
        "#print(y_train)\n",
        "#print(x_test)\n",
        "\n",
        "x_train /=255\n",
        "x_test /=255\n",
        "\n",
        "x_train = x_train.reshape(x_train.shape[0],48,48,1)\n",
        "x_test = x_test.reshape(x_test.shape[0],48,48,1)\n",
        "#print(x_train.shape)\n",
        "\n",
        "\n",
        "\n",
        "\n"
      ],
      "execution_count": 23,
      "outputs": [
        {
          "output_type": "stream",
          "text": [
            "(28709, 2304)\n",
            "(28709, 48, 48, 1)\n"
          ],
          "name": "stdout"
        }
      ]
    }
  ]
}