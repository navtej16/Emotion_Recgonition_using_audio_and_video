{
  "nbformat": 4,
  "nbformat_minor": 0,
  "metadata": {
    "colab": {
      "name": "Emotion_recognition_using_video.ipynb",
      "provenance": [],
      "authorship_tag": "ABX9TyONQ8RBeG/27MZTpoSvodJZ",
      "include_colab_link": true
    },
    "kernelspec": {
      "name": "python3",
      "display_name": "Python 3"
    },
    "language_info": {
      "name": "python"
    }
  },
  "cells": [
    {
      "cell_type": "markdown",
      "metadata": {
        "id": "view-in-github",
        "colab_type": "text"
      },
      "source": [
        "<a href=\"https://colab.research.google.com/github/navtej16/Emotion_Recgonition_using_audio_and_video/blob/main/Emotion_recognition_using_video.ipynb\" target=\"_parent\"><img src=\"https://colab.research.google.com/assets/colab-badge.svg\" alt=\"Open In Colab\"/></a>"
      ]
    },
    {
      "cell_type": "code",
      "metadata": {
        "id": "8ggHxBvofh9z"
      },
      "source": [
        "import tensorflow as tf\n",
        "\n",
        "import keras\n",
        "from keras.models import Sequential\n",
        "from keras.layers import Conv2D , MaxPooling2D , AveragePooling2D\n",
        "from keras.layers import Dense , Activation , Dropout ,Flatten\n",
        "\n",
        "from keras.preprocessing import image\n",
        "from keras.preprocessing.image import ImageDataGenerator\n",
        "\n"
      ],
      "execution_count": 27,
      "outputs": []
    },
    {
      "cell_type": "code",
      "metadata": {
        "id": "0MC04XlvliXG"
      },
      "source": [
        "#from google.colab import files\n",
        "#uploaded = files.upload()"
      ],
      "execution_count": 2,
      "outputs": []
    },
    {
      "cell_type": "code",
      "metadata": {
        "colab": {
          "base_uri": "https://localhost:8080/"
        },
        "id": "z0Hj7o_rmWuD",
        "outputId": "0c0339fe-9a7c-475a-9b43-5e2413f7d111"
      },
      "source": [
        "from google.colab import drive\n",
        "drive.mount(\"/content/gdrive\")\n",
        "import pandas as pd\n",
        "data = pd.read_csv('/content/gdrive/My Drive/fer2013.csv')"
      ],
      "execution_count": 5,
      "outputs": [
        {
          "output_type": "stream",
          "text": [
            "Drive already mounted at /content/gdrive; to attempt to forcibly remount, call drive.mount(\"/content/gdrive\", force_remount=True).\n"
          ],
          "name": "stdout"
        }
      ]
    },
    {
      "cell_type": "markdown",
      "metadata": {
        "id": "ZU4ZoLJi3bga"
      },
      "source": [
        ""
      ]
    },
    {
      "cell_type": "code",
      "metadata": {
        "colab": {
          "base_uri": "https://localhost:8080/"
        },
        "id": "WA1qZ86kmx5-",
        "outputId": "46487c57-f064-4aa7-b091-c94b3f021b30"
      },
      "source": [
        "#data.shape\n",
        "#data.head()\n",
        "\n",
        "x_test = []\n",
        "y_test = []\n",
        "x_train = []\n",
        "y_train = []\n",
        "\n",
        "import numpy as np\n",
        "\n",
        "l = np.array(data);\n",
        "\n",
        "for index,row in data.iterrows():\n",
        "  k = row['pixels'].split(\" \")\n",
        "\n",
        "  emot = row['emotion']\n",
        "  emot = keras.utils.to_categorical(emot,7)\n",
        "\n",
        "  if row['Usage'] == 'Training' :\n",
        "    x_train.append(np.array(k))\n",
        "    y_train.append(emot)\n",
        "  elif row['Usage'] == 'PublicTest' :\n",
        "    x_test.append(np.array(k))\n",
        "    y_test.append(emot)\n",
        "  \n",
        "x_train = np.array(x_train,'float32')\n",
        "y_train = np.array(y_train,'float32')\n",
        "x_test = np.array(x_test,'float32')\n",
        "y_test = np.array(y_test,'float32')\n",
        "\n",
        "#print(x_train.shape)\n",
        "#print(y_train)\n",
        "#print(x_test)\n",
        "\n",
        "x_train /=255\n",
        "x_test /=255\n",
        "\n",
        "x_train = x_train.reshape(x_train.shape[0],48,48,1)\n",
        "x_test = x_test.reshape(x_test.shape[0],48,48,1)\n",
        "#print(x_train.shape)\n",
        "\n",
        "\n",
        "\n",
        "\n"
      ],
      "execution_count": 23,
      "outputs": [
        {
          "output_type": "stream",
          "text": [
            "(28709, 2304)\n",
            "(28709, 48, 48, 1)\n"
          ],
          "name": "stdout"
        }
      ]
    },
    {
      "cell_type": "code",
      "metadata": {
        "colab": {
          "base_uri": "https://localhost:8080/"
        },
        "id": "Lv07Ybe9_wIf",
        "outputId": "ef1eb8f9-0e19-4c3d-c99e-3f42b01d3c95"
      },
      "source": [
        "model = Sequential()\n",
        "\n",
        "#1st 1ayer\n",
        "model.add(Conv2D(64,(5,5),activation='relu',input_shape=(48,48,1)))\n",
        "model.add(MaxPooling2D(pool_size=(5,5),strides=(2,2)))\n",
        "\n",
        "#2nd 1ayer\n",
        "model.add(Conv2D(64,(3,3),activation='relu'))\n",
        "model.add(Conv2D(64,(3,3),activation='relu'))\n",
        "model.add(MaxPooling2D(pool_size=(3,3),strides=(2,2)))\n",
        "\n",
        "#3rd 1ayer\n",
        "model.add(Conv2D(128,(3,3),activation='relu'))\n",
        "model.add(Conv2D(128,(3,3),activation='relu'))\n",
        "model.add(MaxPooling2D(pool_size=(3,3),strides=(2,2)))\n",
        "\n",
        "model.add(Flatten())\n",
        "\n",
        "model.add(Dense(1024,activation='relu'))\n",
        "model.add(Dropout(0.2))\n",
        "model.add(Dense(1024,activation='relu'))\n",
        "model.add(Dropout(0.2))\n",
        "\n",
        "model.add(Dense(7,activation='softmax'))\n",
        "\n",
        "gen = ImageDataGenerator()\n",
        "train_gen = gen.flow(x_train,y_train,batch_size=256)\n",
        "\n",
        "model.compile(loss='categorical_crossentropy',\n",
        "              optimizer=keras.optimizers.Adam(),metrics=['accuracy'])\n",
        "\n",
        "fit = True \n",
        "\n",
        "if fit == True:\n",
        "   model.fit_generator(train_gen,steps_per_epoch = 256 , epochs = 25)\n",
        "else:\n",
        "  model.load_weights('/data/facial_expression_model_weights.h5')\n",
        "\n",
        "\n",
        "\n",
        "\n",
        "\n",
        "\n"
      ],
      "execution_count": 30,
      "outputs": [
        {
          "output_type": "stream",
          "text": [
            "/usr/local/lib/python3.7/dist-packages/tensorflow/python/keras/engine/training.py:1844: UserWarning: `Model.fit_generator` is deprecated and will be removed in a future version. Please use `Model.fit`, which supports generators.\n",
            "  warnings.warn('`Model.fit_generator` is deprecated and '\n"
          ],
          "name": "stderr"
        },
        {
          "output_type": "stream",
          "text": [
            "Epoch 1/25\n",
            "113/256 [============>.................] - ETA: 4:14 - loss: 1.8312 - accuracy: 0.2505WARNING:tensorflow:Your input ran out of data; interrupting training. Make sure that your dataset or generator can generate at least `steps_per_epoch * epochs` batches (in this case, 6400 batches). You may need to use the repeat() function when building your dataset.\n",
            "256/256 [==============================] - 202s 780ms/step - loss: 1.8248 - accuracy: 0.2506\n"
          ],
          "name": "stdout"
        }
      ]
    }
  ]
}